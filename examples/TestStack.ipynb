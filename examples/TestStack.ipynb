{
 "cells": [
  {
   "cell_type": "code",
   "execution_count": 1,
   "id": "ac596f4e-2991-4bfd-a3d3-a7a92ec0e458",
   "metadata": {},
   "outputs": [],
   "source": [
    "%matplotlib inline\n",
    "from IPython.core.magics.execution import TimeitResult\n",
    "from typing import NamedTuple\n",
    "import matplotlib.pyplot as plt"
   ]
  },
  {
   "cell_type": "code",
   "execution_count": 2,
   "id": "547d9dc7-a4e1-4fb3-ad8a-a93a3583da5b",
   "metadata": {},
   "outputs": [],
   "source": [
    "import torch\n",
    "import scipy\n",
    "import cupy as cp\n",
    "import numpy as np\n",
    "import pyfftw"
   ]
  },
  {
   "cell_type": "code",
   "execution_count": 3,
   "id": "d39d5a28-a4aa-4fae-a348-62d42aff88a2",
   "metadata": {},
   "outputs": [],
   "source": [
    "from libertem.common.shape import Shape"
   ]
  },
  {
   "cell_type": "code",
   "execution_count": 4,
   "id": "2473e651-afdd-4381-b40e-52ca3a355d26",
   "metadata": {},
   "outputs": [],
   "source": [
    "class Result(NamedTuple):\n",
    "    stack: TimeitResult\n",
    "    framewise: TimeitResult"
   ]
  },
  {
   "cell_type": "code",
   "execution_count": 5,
   "id": "f2f233b8-32fb-42de-9c64-5683e4e70b70",
   "metadata": {},
   "outputs": [],
   "source": [
    "# res.loops #: (int) number of loop done per measurement\n",
    "# res.repeat  #: (int) number of time the mesurement has been repeated\n",
    "# res.best  #: (float) best execusion time / number\n",
    "# res.all_runs # (list of float) execusion time of each run (in s)\n",
    "# res.timings "
   ]
  },
  {
   "cell_type": "code",
   "execution_count": 6,
   "id": "0f828b12-7748-4c1c-9af5-e5e2de7493c6",
   "metadata": {},
   "outputs": [],
   "source": [
    "stack_sizes = (2, 4, 8, 16, 32, 64)\n",
    "sig_shapes = {(64, 64): ':', (128, 128): '-.', (256, 256): '--', (512, 512): '-'}"
   ]
  },
  {
   "cell_type": "markdown",
   "id": "86fd66ac-c987-4606-a132-d3d99aac4074",
   "metadata": {},
   "source": [
    "## np.fft"
   ]
  },
  {
   "cell_type": "code",
   "execution_count": 7,
   "id": "5739e7d3-4e34-45fe-a1bd-a5d8b4963478",
   "metadata": {},
   "outputs": [
    {
     "ename": "RuntimeError",
     "evalue": "No active exception to reraise",
     "output_type": "error",
     "traceback": [
      "\u001b[0;31m---------------------------------------------------------------------------\u001b[0m",
      "\u001b[0;31mRuntimeError\u001b[0m                              Traceback (most recent call last)",
      "Cell \u001b[0;32mIn [7], line 1\u001b[0m\n\u001b[0;32m----> 1\u001b[0m \u001b[38;5;28;01mraise\u001b[39;00m\n",
      "\u001b[0;31mRuntimeError\u001b[0m: No active exception to reraise"
     ]
    }
   ],
   "source": [
    "raise"
   ]
  },
  {
   "cell_type": "code",
   "execution_count": null,
   "id": "ef395b1c-2104-4d13-9e64-0c3bf347f620",
   "metadata": {},
   "outputs": [],
   "source": [
    "np_results = {}\n",
    "xp = np\n",
    "fft = np.fft\n",
    "\n",
    "for stack_size in stack_sizes:\n",
    "    for sig_shape in sig_shapes.keys():\n",
    "        warmup_data = xp.random.uniform(size=(stack_size, *sig_shape)).astype(xp.float32)\n",
    "        fft.fft2(warmup_data)\n",
    "        fft.fft2(warmup_data[0])\n",
    "        stack_data = xp.random.uniform(size=(stack_size, *sig_shape)).astype(xp.float32)\n",
    "        print(f'SHAPE : {stack_data.shape}')        \n",
    "        res_stack = %timeit -o fft.fft2(stack_data)\n",
    "        frame_data = [f.copy() for f in stack_data]\n",
    "        res_frame = %timeit -o [fft.fft2(f) for f in frame_data]\n",
    "        np_results[Shape(stack_data.shape, sig_dims=2)] = Result(res_stack, res_frame)"
   ]
  },
  {
   "cell_type": "markdown",
   "id": "7fdfae28-281e-4c2b-ba4c-4d948ff842f3",
   "metadata": {},
   "source": [
    "## cupy.fft"
   ]
  },
  {
   "cell_type": "code",
   "execution_count": null,
   "id": "d32388a0-74e4-4eac-91a7-4c210142d30a",
   "metadata": {},
   "outputs": [],
   "source": [
    "cp_results = {}\n",
    "xp = cp\n",
    "fft = cp.fft\n",
    "\n",
    "for stack_size in stack_sizes:\n",
    "    for sig_shape in sig_shapes.keys():\n",
    "        warmup_data = xp.random.uniform(size=(stack_size, *sig_shape)).astype(xp.float32)\n",
    "        fft.fft2(warmup_data)\n",
    "        fft.fft2(warmup_data[0])\n",
    "        stack_data = xp.random.uniform(size=(stack_size, *sig_shape)).astype(xp.float32)\n",
    "        print(f'SHAPE : {stack_data.shape}')\n",
    "        res_stack = %timeit -o fft.fft2(stack_data).get()\n",
    "        frame_data = [f.copy() for f in stack_data]\n",
    "        res_frame = %timeit -o [fft.fft2(f).get() for f in frame_data]\n",
    "        cp_results[Shape(stack_data.shape, sig_dims=2)] = Result(res_stack, res_frame)"
   ]
  },
  {
   "cell_type": "markdown",
   "id": "f59ed642-d457-49f3-a7d8-3ac50105439a",
   "metadata": {},
   "source": [
    "## pyFFTW x scipy.fftpack"
   ]
  },
  {
   "cell_type": "code",
   "execution_count": null,
   "id": "7076caca-9f58-4ad2-b0fe-20c4ad1d4217",
   "metadata": {},
   "outputs": [],
   "source": [
    "pfftw_results = {}\n",
    "xp = np\n",
    "fft = pyfftw.interfaces.scipy_fftpack\n",
    "\n",
    "for stack_size in stack_sizes:\n",
    "    for sig_shape in sig_shapes.keys():\n",
    "        warmup_data = xp.random.uniform(size=(stack_size, *sig_shape)).astype(xp.float32)\n",
    "        fft.fft2(warmup_data)\n",
    "        fft.fft2(warmup_data[0])\n",
    "        stack_data = xp.random.uniform(size=(stack_size, *sig_shape)).astype(xp.float32)\n",
    "        print(f'SHAPE : {stack_data.shape}')\n",
    "        res_stack = %timeit -o fft.fft2(stack_data)\n",
    "        frame_data = [f.copy() for f in stack_data]\n",
    "        res_frame = %timeit -o [fft.fft2(f) for f in frame_data]\n",
    "        pfftw_results[Shape(stack_data.shape, sig_dims=2)] = Result(res_stack, res_frame)"
   ]
  },
  {
   "cell_type": "markdown",
   "id": "521aeab3-208e-4039-97ff-6d290cd1a274",
   "metadata": {},
   "source": [
    "## Plotting"
   ]
  },
  {
   "cell_type": "code",
   "execution_count": null,
   "id": "da45f933-5dcb-4f03-a0a1-e88ad3e82933",
   "metadata": {},
   "outputs": [],
   "source": [
    "fig, ax = plt.subplots()\n",
    "for (name, color), results in {\n",
    "    ('cp.fft', 'r'): cp_results,    \n",
    "    ('pyfftw.scipy_fftpack', 'b'): pfftw_results,  \n",
    "    ('np.fft', 'k'): np_results,\n",
    "}.items():\n",
    "    accx = list(sorted(stack_sizes))\n",
    "    accy = {s: [-1] * len(accx) for s in sig_shapes.keys()}\n",
    "    for shape, res in results.items():\n",
    "        stack_size = shape.nav.size\n",
    "        idx = accx.index(stack_size)\n",
    "        accy[shape.sig.to_tuple()][idx] = np.mean(res.stack.timings) / np.mean(res.framewise.timings)\n",
    "    for idx, (sig_shape, shape_results) in enumerate(reversed(accy.items())):\n",
    "        line_style = sig_shapes[sig_shape]\n",
    "        legend = {'label': f'{name} - {sig_shape}'}  if line_style == '-' else {}\n",
    "        if not legend and name == 'np.fft':\n",
    "            legend = {'label': f'{sig_shape}'}\n",
    "        ax.plot(accx, shape_results, 'x', color=color, linestyle=line_style, **legend)\n",
    "ax.set_xlabel('Stack size')\n",
    "ax.set_ylabel('$t_{stack} / t_{framewise}$');\n",
    "box = ax.get_position()\n",
    "# ax.set_position([box.x0, box.y0, box.width * 0.9, box.height])\n",
    "ax.legend(loc='center left', bbox_to_anchor=(1, 0.5))\n",
    "ax.set_title('fft2() - stack / framewise processing time');"
   ]
  },
  {
   "cell_type": "markdown",
   "id": "6b87fce9-83c3-4702-9a5e-3336af210fae",
   "metadata": {},
   "source": [
    "## Test as UDF"
   ]
  },
  {
   "cell_type": "code",
   "execution_count": 8,
   "id": "c9f8291e-6428-4adc-bf61-de641202b0a6",
   "metadata": {},
   "outputs": [],
   "source": [
    "import libertem.api as lt\n",
    "from libertem.udf.sum import SumUDF\n",
    "from libertem.common.backend import set_use_cuda, set_use_cpu\n",
    "from stack_utils import NeedsFrame, DoesFFTFrame, DoesFFTStack"
   ]
  },
  {
   "cell_type": "code",
   "execution_count": 9,
   "id": "0b15e4e4-9c63-457f-a732-1bb1ba583640",
   "metadata": {},
   "outputs": [],
   "source": [
    "max_sig_shape = (512, 512)\n",
    "max_n_frames = 2048\n",
    "dtype = np.float32"
   ]
  },
  {
   "cell_type": "code",
   "execution_count": 10,
   "id": "cb523fb0-9371-40c9-8469-00537b1bd5be",
   "metadata": {},
   "outputs": [],
   "source": [
    "data = np.random.uniform(size=(max_n_frames, *max_sig_shape)).astype(dtype)\n",
    "path = './data.raw'\n",
    "data.tofile(path)"
   ]
  },
  {
   "cell_type": "code",
   "execution_count": 11,
   "id": "41db6797-7768-4b62-b91f-92fef9f8debe",
   "metadata": {},
   "outputs": [
    {
     "name": "stdout",
     "output_type": "stream",
     "text": [
      "2048.0 MB file\n"
     ]
    }
   ],
   "source": [
    "print(f'{np.dtype(dtype).itemsize * data.size / 2**20} MB file')"
   ]
  },
  {
   "cell_type": "code",
   "execution_count": 12,
   "id": "4df649ed-d83f-40ad-abda-8b11fe46201e",
   "metadata": {},
   "outputs": [],
   "source": [
    "set_use_cpu(0)\n",
    "ctx = lt.Context.make_with('inline')"
   ]
  },
  {
   "cell_type": "markdown",
   "id": "f717ea2b-6a50-4e73-80c7-1b8987dc1582",
   "metadata": {},
   "source": [
    "Warmup to get all data in cache:"
   ]
  },
  {
   "cell_type": "code",
   "execution_count": 13,
   "id": "a9099133-4ebb-4355-b47b-e93c29bb814a",
   "metadata": {},
   "outputs": [],
   "source": [
    "ds = ctx.load('raw_m', path, tile_depth=5, nav_shape=(max_n_frames,), sig_shape=max_sig_shape, dtype=dtype)\n",
    "_ = ctx.run_udf(ds, SumUDF())"
   ]
  },
  {
   "cell_type": "code",
   "execution_count": 14,
   "id": "0b2a1a3a-0ca2-4a8c-a809-03793589d399",
   "metadata": {},
   "outputs": [
    {
     "ename": "RuntimeError",
     "evalue": "No active exception to reraise",
     "output_type": "error",
     "traceback": [
      "\u001b[0;31m---------------------------------------------------------------------------\u001b[0m",
      "\u001b[0;31mRuntimeError\u001b[0m                              Traceback (most recent call last)",
      "Cell \u001b[0;32mIn [14], line 1\u001b[0m\n\u001b[0;32m----> 1\u001b[0m \u001b[38;5;28;01mraise\u001b[39;00m\n",
      "\u001b[0;31mRuntimeError\u001b[0m: No active exception to reraise"
     ]
    }
   ],
   "source": [
    "raise"
   ]
  },
  {
   "cell_type": "code",
   "execution_count": null,
   "id": "4f96d14a-6cbe-49a9-b3e2-d313b7c75b85",
   "metadata": {},
   "outputs": [],
   "source": [
    "num_frames = 512\n",
    "np_results = {}\n",
    "\n",
    "for stack_size in stack_sizes:\n",
    "    for sig_shape in sig_shapes.keys():\n",
    "        sh = Shape((stack_size,) + sig_shape, sig_dims=2)\n",
    "        ds = ctx.load('raw_m', path, tile_depth=stack_size, nav_shape=(num_frames,), sig_shape=sig_shape, dtype=dtype)\n",
    "        print(sh, ds.get_num_partitions())        \n",
    "        _ = ctx.run_udf(ds, SumUDF())\n",
    "        res_stack = %timeit -o ctx.run_udf(ds, [NeedsFrame(), DoesFFTStack()])\n",
    "        ds = ctx.load('raw', path, nav_shape=(num_frames,), sig_shape=sig_shape, dtype=dtype)\n",
    "        _ = ctx.run_udf(ds, SumUDF())\n",
    "        res_frame = %timeit -o ctx.run_udf(ds, [NeedsFrame(), DoesFFTFrame()])\n",
    "        np_results[sh] = Result(res_stack, res_frame)"
   ]
  },
  {
   "cell_type": "markdown",
   "id": "4471bf5b-01ef-480b-85c5-6e4781335925",
   "metadata": {},
   "source": [
    "## CuPy"
   ]
  },
  {
   "cell_type": "code",
   "execution_count": 15,
   "id": "b0ef79ce-8a3c-4062-9abb-02a53fd1d005",
   "metadata": {},
   "outputs": [],
   "source": [
    "set_use_cuda(0)\n",
    "ctx = lt.Context.make_with('inline')"
   ]
  },
  {
   "cell_type": "code",
   "execution_count": 16,
   "id": "e2281d3f-8d62-462a-bf5f-dd541f34f9c6",
   "metadata": {},
   "outputs": [],
   "source": [
    "ds = ctx.load('raw_m', path, tile_depth=5, nav_shape=(max_n_frames,), sig_shape=max_sig_shape, dtype=dtype)\n",
    "_ = ctx.run_udf(ds, SumUDF())"
   ]
  },
  {
   "cell_type": "code",
   "execution_count": 17,
   "id": "61e959b6-6669-4acc-9ca8-b6870a3f32a5",
   "metadata": {},
   "outputs": [
    {
     "name": "stdout",
     "output_type": "stream",
     "text": [
      "(2, 64, 64) 1\n",
      "66.1 ms ± 120 µs per loop (mean ± std. dev. of 7 runs, 10 loops each)\n",
      "67.5 ms ± 367 µs per loop (mean ± std. dev. of 7 runs, 10 loops each)\n",
      "(2, 128, 128) 1\n",
      "76.5 ms ± 434 µs per loop (mean ± std. dev. of 7 runs, 10 loops each)\n",
      "80.7 ms ± 271 µs per loop (mean ± std. dev. of 7 runs, 10 loops each)\n",
      "(2, 256, 256) 1\n",
      "111 ms ± 287 µs per loop (mean ± std. dev. of 7 runs, 10 loops each)\n",
      "130 ms ± 1.7 ms per loop (mean ± std. dev. of 7 runs, 10 loops each)\n",
      "(2, 512, 512) 1\n",
      "212 ms ± 244 µs per loop (mean ± std. dev. of 7 runs, 1 loop each)\n",
      "292 ms ± 2.9 ms per loop (mean ± std. dev. of 7 runs, 1 loop each)\n",
      "(4, 64, 64) 1\n",
      "39.3 ms ± 346 µs per loop (mean ± std. dev. of 7 runs, 10 loops each)\n",
      "67.3 ms ± 703 µs per loop (mean ± std. dev. of 7 runs, 10 loops each)\n",
      "(4, 128, 128) 1\n",
      "48.9 ms ± 335 µs per loop (mean ± std. dev. of 7 runs, 10 loops each)\n",
      "80.7 ms ± 326 µs per loop (mean ± std. dev. of 7 runs, 10 loops each)\n",
      "(4, 256, 256) 1\n",
      "80.3 ms ± 468 µs per loop (mean ± std. dev. of 7 runs, 10 loops each)\n",
      "130 ms ± 609 µs per loop (mean ± std. dev. of 7 runs, 10 loops each)\n",
      "(4, 512, 512) 1\n",
      "203 ms ± 1.79 ms per loop (mean ± std. dev. of 7 runs, 1 loop each)\n",
      "294 ms ± 5.9 ms per loop (mean ± std. dev. of 7 runs, 1 loop each)\n",
      "(8, 64, 64) 1\n",
      "25.7 ms ± 127 µs per loop (mean ± std. dev. of 7 runs, 10 loops each)\n",
      "66.3 ms ± 270 µs per loop (mean ± std. dev. of 7 runs, 10 loops each)\n",
      "(8, 128, 128) 1\n",
      "34.8 ms ± 119 µs per loop (mean ± std. dev. of 7 runs, 10 loops each)\n",
      "80.6 ms ± 263 µs per loop (mean ± std. dev. of 7 runs, 10 loops each)\n",
      "(8, 256, 256) 1\n",
      "65 ms ± 132 µs per loop (mean ± std. dev. of 7 runs, 10 loops each)\n",
      "132 ms ± 426 µs per loop (mean ± std. dev. of 7 runs, 10 loops each)\n",
      "(8, 512, 512) 1\n",
      "213 ms ± 922 µs per loop (mean ± std. dev. of 7 runs, 1 loop each)\n",
      "292 ms ± 2.78 ms per loop (mean ± std. dev. of 7 runs, 1 loop each)\n",
      "(16, 64, 64) 1\n",
      "18.7 ms ± 129 µs per loop (mean ± std. dev. of 7 runs, 100 loops each)\n",
      "67.3 ms ± 361 µs per loop (mean ± std. dev. of 7 runs, 10 loops each)\n",
      "(16, 128, 128) 1\n",
      "27.8 ms ± 184 µs per loop (mean ± std. dev. of 7 runs, 10 loops each)\n",
      "81.5 ms ± 486 µs per loop (mean ± std. dev. of 7 runs, 10 loops each)\n",
      "(16, 256, 256) 1\n",
      "61.1 ms ± 314 µs per loop (mean ± std. dev. of 7 runs, 10 loops each)\n",
      "130 ms ± 704 µs per loop (mean ± std. dev. of 7 runs, 10 loops each)\n",
      "(16, 512, 512) 1\n",
      "295 ms ± 1.45 ms per loop (mean ± std. dev. of 7 runs, 1 loop each)\n",
      "298 ms ± 1.82 ms per loop (mean ± std. dev. of 7 runs, 1 loop each)\n",
      "(32, 64, 64) 1\n",
      "15.3 ms ± 74.5 µs per loop (mean ± std. dev. of 7 runs, 100 loops each)\n",
      "67.7 ms ± 488 µs per loop (mean ± std. dev. of 7 runs, 10 loops each)\n",
      "(32, 128, 128) 1\n",
      "24.5 ms ± 227 µs per loop (mean ± std. dev. of 7 runs, 10 loops each)\n",
      "81.7 ms ± 361 µs per loop (mean ± std. dev. of 7 runs, 10 loops each)\n",
      "(32, 256, 256) 1\n",
      "63.4 ms ± 126 µs per loop (mean ± std. dev. of 7 runs, 10 loops each)\n",
      "131 ms ± 773 µs per loop (mean ± std. dev. of 7 runs, 10 loops each)\n",
      "(32, 512, 512) 1\n",
      "291 ms ± 721 µs per loop (mean ± std. dev. of 7 runs, 1 loop each)\n",
      "292 ms ± 3 ms per loop (mean ± std. dev. of 7 runs, 1 loop each)\n",
      "(64, 64, 64) 1\n",
      "13.2 ms ± 124 µs per loop (mean ± std. dev. of 7 runs, 100 loops each)\n",
      "67.6 ms ± 513 µs per loop (mean ± std. dev. of 7 runs, 10 loops each)\n",
      "(64, 128, 128) 1\n",
      "22 ms ± 432 µs per loop (mean ± std. dev. of 7 runs, 10 loops each)\n",
      "81.9 ms ± 372 µs per loop (mean ± std. dev. of 7 runs, 10 loops each)\n",
      "(64, 256, 256) 1\n",
      "83.4 ms ± 428 µs per loop (mean ± std. dev. of 7 runs, 10 loops each)\n",
      "131 ms ± 642 µs per loop (mean ± std. dev. of 7 runs, 10 loops each)\n",
      "(64, 512, 512) 1\n",
      "294 ms ± 603 µs per loop (mean ± std. dev. of 7 runs, 1 loop each)\n",
      "294 ms ± 1.42 ms per loop (mean ± std. dev. of 7 runs, 1 loop each)\n"
     ]
    }
   ],
   "source": [
    "num_frames = 512\n",
    "cp_results = {}\n",
    "\n",
    "for stack_size in stack_sizes:\n",
    "    for sig_shape in sig_shapes.keys():\n",
    "        sh = Shape((stack_size,) + sig_shape, sig_dims=2)\n",
    "        ds = ctx.load('raw_m', path, tile_depth=stack_size, nav_shape=(num_frames,), sig_shape=sig_shape, dtype=dtype)\n",
    "        print(sh, ds.get_num_partitions())        \n",
    "        _ = ctx.run_udf(ds, SumUDF())\n",
    "        res_stack = %timeit -o ctx.run_udf(ds, [NeedsFrame(), DoesFFTStack()])\n",
    "        ds = ctx.load('raw', path, nav_shape=(num_frames,), sig_shape=sig_shape, dtype=dtype)\n",
    "        _ = ctx.run_udf(ds, SumUDF())\n",
    "        res_frame = %timeit -o ctx.run_udf(ds, [NeedsFrame(), DoesFFTFrame()])\n",
    "        cp_results[sh] = Result(res_stack, res_frame)"
   ]
  },
  {
   "cell_type": "markdown",
   "id": "41ec9039-7643-4ccd-85f8-17ee3ad36c39",
   "metadata": {},
   "source": [
    "## Plotting"
   ]
  },
  {
   "cell_type": "code",
   "execution_count": 19,
   "id": "da9212d4-3a62-4412-9082-c413ce71e57c",
   "metadata": {},
   "outputs": [
    {
     "data": {
      "image/png": "[encoded data removed]",
      "text/plain": [
       "<Figure size 640x480 with 1 Axes>"
      ]
     },
     "metadata": {},
     "output_type": "display_data"
    }
   ],
   "source": [
    "fig, ax = plt.subplots()\n",
    "for (name, color), results in {\n",
    "    ('cp.fft', 'r'): cp_results,    \n",
    "    # ('pyfftw.scipy_fftpack', 'b'): pfftw_results,\n",
    "    # ('np.fft', 'k'): np_results,\n",
    "}.items():\n",
    "    accx = list(sorted(stack_sizes))\n",
    "    accy = {s: [-1] * len(accx) for s in sig_shapes.keys()}\n",
    "    for shape, res in results.items():\n",
    "        stack_size = shape.nav.size\n",
    "        idx = accx.index(stack_size)\n",
    "        accy[shape.sig.to_tuple()][idx] = np.mean(res.stack.timings) / np.mean(res.framewise.timings)\n",
    "    for idx, (sig_shape, shape_results) in enumerate(reversed(accy.items())):\n",
    "        line_style = sig_shapes[sig_shape]\n",
    "        legend = {'label': f'{name} - {sig_shape}'}  if line_style == '-' else {}\n",
    "        if not legend and name == 'np.fft':\n",
    "            legend = {'label': f'{sig_shape}'}\n",
    "        ax.plot(accx, shape_results, 'x', color=color, linestyle=line_style, **legend)\n",
    "ax.set_xlabel('Stack size')\n",
    "ax.set_ylabel('$t_{stack} / t_{framewise}$');\n",
    "box = ax.get_position()\n",
    "# ax.set_position([box.x0, box.y0, box.width * 0.9, box.height])\n",
    "ax.legend(loc='center left', bbox_to_anchor=(1, 0.5))\n",
    "ax.set_title('fft2() - stack / framewise processing time');"
   ]
  },
  {
   "cell_type": "code",
   "execution_count": null,
   "id": "7339ae42-331b-4400-a25e-0ffff03a32f9",
   "metadata": {},
   "outputs": [],
   "source": []
  }
 ],
 "metadata": {
  "kernelspec": {
   "display_name": "Python 3 (ipykernel)",
   "language": "python",
   "name": "python3"
  },
  "language_info": {
   "codemirror_mode": {
    "name": "ipython",
    "version": 3
   },
   "file_extension": ".py",
   "mimetype": "text/x-python",
   "name": "python",
   "nbconvert_exporter": "python",
   "pygments_lexer": "ipython3",
   "version": "3.10.8"
  }
 },
 "nbformat": 4,
 "nbformat_minor": 5
}
